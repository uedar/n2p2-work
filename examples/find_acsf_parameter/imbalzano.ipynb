{
 "cells": [
  {
   "cell_type": "markdown",
   "id": "062649a9-4bb3-426b-b0e0-3d589035ca0f",
   "metadata": {},
   "source": [
    "#### using this code \n",
    "https://github.com/flobuch/n2p2/blob/symfunc_paramgen/tools/python/symfunc_paramgen/src/sfparamgen.py"
   ]
  },
  {
   "cell_type": "code",
   "execution_count": null,
   "id": "9113dfef-5150-49e5-90c8-2158292ab1e7",
   "metadata": {},
   "outputs": [],
   "source": [
    "import sys\n",
    "sys.path.append('/home/ueda/Project_GP_Cu+CO/hyps/n2p2/tools/python')"
   ]
  },
  {
   "cell_type": "code",
   "execution_count": null,
   "id": "16f38f6c-4fd6-40b4-801d-2a88c938a358",
   "metadata": {},
   "outputs": [],
   "source": [
    "from sfparamgen import SymFuncParamGenerator"
   ]
  },
  {
   "cell_type": "code",
   "execution_count": null,
   "id": "9f49530d-f998-4c02-9523-4aa922cece04",
   "metadata": {},
   "outputs": [],
   "source": [
    "myGenerator = SymFuncParamGenerator(elements=['Cu'], r_cutoff = 6.)"
   ]
  },
  {
   "cell_type": "code",
   "execution_count": null,
   "id": "7feb9d9b-ea1a-4cb2-863d-746e33daa657",
   "metadata": {},
   "outputs": [],
   "source": [
    "myGenerator.symfunc_type = 'radial'"
   ]
  },
  {
   "cell_type": "code",
   "execution_count": 5,
   "id": "b4feefa9-fc61-4817-842d-33430991d891",
   "metadata": {},
   "outputs": [],
   "source": [
    "myGenerator.generate_radial_params(rule='imbalzano2018', mode='shift', nb_param_pairs=5)"
   ]
  },
  {
   "cell_type": "code",
   "execution_count": 6,
   "id": "1ef086b1-f063-4207-988d-c203873a0086",
   "metadata": {},
   "outputs": [
    {
     "name": "stdout",
     "output_type": "stream",
     "text": [
      "#########################################################################\n",
      "# Radial symmetry function set, for elements ['Cu']\n",
      "#########################################################################\n",
      "# r_cutoff       = 6.0\n",
      "# The following settings were used for generating sets\n",
      "# of values for the radial parameters r_shift and eta:\n",
      "# rule           = imbalzano2018\n",
      "# mode           = shift\n",
      "# nb_param_pairs = 5\n",
      "# Sets of values for parameters:\n",
      "# r_shift_grid   = [1.2    1.6557 2.2844 3.1518 4.3487]\n",
      "# eta_grid       = [4.816  2.5299 1.329  0.6981 0.3667]\n",
      "\n"
     ]
    }
   ],
   "source": [
    "myGenerator.write_settings_overview()"
   ]
  },
  {
   "cell_type": "code",
   "execution_count": 7,
   "id": "b5af78c2-01ee-4f97-b353-b61b5ac9011e",
   "metadata": {},
   "outputs": [
    {
     "name": "stdout",
     "output_type": "stream",
     "text": [
      "symfunction_short Cu 2 Cu 4.816E+00 1.200E+00 6.000E+00\n",
      "symfunction_short Cu 2 Cu 2.530E+00 1.656E+00 6.000E+00\n",
      "symfunction_short Cu 2 Cu 1.329E+00 2.284E+00 6.000E+00\n",
      "symfunction_short Cu 2 Cu 6.981E-01 3.152E+00 6.000E+00\n",
      "symfunction_short Cu 2 Cu 3.667E-01 4.349E+00 6.000E+00\n",
      "\n"
     ]
    }
   ],
   "source": [
    "myGenerator.write_parameter_strings()"
   ]
  },
  {
   "cell_type": "code",
   "execution_count": 8,
   "id": "921ebf8a-dd6c-4d23-b95e-cad56f9193db",
   "metadata": {},
   "outputs": [],
   "source": [
    "myGenerator.symfunc_type = 'angular_narrow'"
   ]
  },
  {
   "cell_type": "code",
   "execution_count": 9,
   "id": "8dab35f5-db71-4fbb-a3fb-3790866fa2ae",
   "metadata": {},
   "outputs": [],
   "source": [
    "myGenerator.zetas = [1.0, 6.0]"
   ]
  },
  {
   "cell_type": "code",
   "execution_count": 10,
   "id": "8287e694-ed9e-4abe-ac7d-0ce98edecd8f",
   "metadata": {},
   "outputs": [],
   "source": [
    "myGenerator.generate_radial_params(rule='gastegger2018', mode='center', nb_param_pairs=3, r_lower=1.5)"
   ]
  },
  {
   "cell_type": "code",
   "execution_count": 11,
   "id": "d087280a-60f9-461d-942f-853d56154a1b",
   "metadata": {},
   "outputs": [
    {
     "name": "stdout",
     "output_type": "stream",
     "text": [
      "#########################################################################\n",
      "# Narrow angular symmetry function set, for elements ['Cu']\n",
      "#########################################################################\n",
      "# r_cutoff       = 6.0\n",
      "# The following settings were used for generating sets\n",
      "# of values for the radial parameters r_shift and eta:\n",
      "# rule           = gastegger2018\n",
      "# mode           = center\n",
      "# nb_param_pairs = 3\n",
      "# r_lower        = 1.5\n",
      "# r_upper        = 6.0\n",
      "# Sets of values for parameters:\n",
      "# r_shift_grid   = [0. 0. 0.]\n",
      "# eta_grid       = [0.2222 0.0356 0.0139]\n",
      "# lambdas        = [-1.  1.]\n",
      "# zetas          = [1. 6.]\n",
      "\n",
      "symfunction_short Cu 3 Cu Cu 2.222E-01 -1 1.000E+00 6.000E+00 0.000E+00\n",
      "symfunction_short Cu 3 Cu Cu 2.222E-01  1 1.000E+00 6.000E+00 0.000E+00\n",
      "symfunction_short Cu 3 Cu Cu 2.222E-01 -1 6.000E+00 6.000E+00 0.000E+00\n",
      "symfunction_short Cu 3 Cu Cu 2.222E-01  1 6.000E+00 6.000E+00 0.000E+00\n",
      "symfunction_short Cu 3 Cu Cu 3.556E-02 -1 1.000E+00 6.000E+00 0.000E+00\n",
      "symfunction_short Cu 3 Cu Cu 3.556E-02  1 1.000E+00 6.000E+00 0.000E+00\n",
      "symfunction_short Cu 3 Cu Cu 3.556E-02 -1 6.000E+00 6.000E+00 0.000E+00\n",
      "symfunction_short Cu 3 Cu Cu 3.556E-02  1 6.000E+00 6.000E+00 0.000E+00\n",
      "symfunction_short Cu 3 Cu Cu 1.389E-02 -1 1.000E+00 6.000E+00 0.000E+00\n",
      "symfunction_short Cu 3 Cu Cu 1.389E-02  1 1.000E+00 6.000E+00 0.000E+00\n",
      "symfunction_short Cu 3 Cu Cu 1.389E-02 -1 6.000E+00 6.000E+00 0.000E+00\n",
      "symfunction_short Cu 3 Cu Cu 1.389E-02  1 6.000E+00 6.000E+00 0.000E+00\n",
      "\n"
     ]
    }
   ],
   "source": [
    "myGenerator.write_settings_overview()\n",
    "myGenerator.write_parameter_strings()"
   ]
  },
  {
   "cell_type": "code",
   "execution_count": 13,
   "id": "603215ad-2f3f-4d42-8d95-3403fdaf94fa",
   "metadata": {},
   "outputs": [
    {
     "name": "stdout",
     "output_type": "stream",
     "text": [
      "#########################################################################\n",
      "# Wide angular symmetry function set, for elements ['Cu']\n",
      "#########################################################################\n",
      "# r_cutoff       = 6.0\n",
      "# The following settings were used for generating sets\n",
      "# of values for the radial parameters r_shift and eta:\n",
      "# rule           = gastegger2018\n",
      "# mode           = center\n",
      "# nb_param_pairs = 3\n",
      "# r_lower        = 1.5\n",
      "# r_upper        = 6.0\n",
      "# Sets of values for parameters:\n",
      "# r_shift_grid   = [0. 0. 0.]\n",
      "# eta_grid       = [0.2222 0.0356 0.0139]\n",
      "# lambdas        = [-1.  1.]\n",
      "# zetas          = [1. 6.]\n",
      "\n",
      "symfunction_short Cu 9 Cu Cu 2.222E-01 -1 1.000E+00 6.000E+00 0.000E+00\n",
      "symfunction_short Cu 9 Cu Cu 2.222E-01  1 1.000E+00 6.000E+00 0.000E+00\n",
      "symfunction_short Cu 9 Cu Cu 2.222E-01 -1 6.000E+00 6.000E+00 0.000E+00\n",
      "symfunction_short Cu 9 Cu Cu 2.222E-01  1 6.000E+00 6.000E+00 0.000E+00\n",
      "symfunction_short Cu 9 Cu Cu 3.556E-02 -1 1.000E+00 6.000E+00 0.000E+00\n",
      "symfunction_short Cu 9 Cu Cu 3.556E-02  1 1.000E+00 6.000E+00 0.000E+00\n",
      "symfunction_short Cu 9 Cu Cu 3.556E-02 -1 6.000E+00 6.000E+00 0.000E+00\n",
      "symfunction_short Cu 9 Cu Cu 3.556E-02  1 6.000E+00 6.000E+00 0.000E+00\n",
      "symfunction_short Cu 9 Cu Cu 1.389E-02 -1 1.000E+00 6.000E+00 0.000E+00\n",
      "symfunction_short Cu 9 Cu Cu 1.389E-02  1 1.000E+00 6.000E+00 0.000E+00\n",
      "symfunction_short Cu 9 Cu Cu 1.389E-02 -1 6.000E+00 6.000E+00 0.000E+00\n",
      "symfunction_short Cu 9 Cu Cu 1.389E-02  1 6.000E+00 6.000E+00 0.000E+00\n",
      "\n"
     ]
    }
   ],
   "source": [
    "myGenerator.symfunc_type = 'angular_wide'\n",
    "myGenerator.generate_radial_params(rule='gastegger2018', mode='center', nb_param_pairs=3, r_lower=1.5)\n",
    "myGenerator.write_settings_overview()\n",
    "myGenerator.write_parameter_strings()"
   ]
  },
  {
   "cell_type": "code",
   "execution_count": null,
   "id": "c893ef4d-958a-4c71-b912-0eea49b9c663",
   "metadata": {},
   "outputs": [],
   "source": []
  }
 ],
 "metadata": {
  "kernelspec": {
   "display_name": "flare_cu_co",
   "language": "python",
   "name": "env1"
  },
  "language_info": {
   "codemirror_mode": {
    "name": "ipython",
    "version": 3
   },
   "file_extension": ".py",
   "mimetype": "text/x-python",
   "name": "python",
   "nbconvert_exporter": "python",
   "pygments_lexer": "ipython3",
   "version": "3.7.5"
  }
 },
 "nbformat": 4,
 "nbformat_minor": 5
}
